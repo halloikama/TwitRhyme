{
 "cells": [
  {
   "cell_type": "code",
   "execution_count": null,
   "metadata": {},
   "outputs": [],
   "source": []
  },
  {
   "cell_type": "code",
   "execution_count": null,
   "metadata": {},
   "outputs": [],
   "source": []
  },
  {
   "cell_type": "code",
   "execution_count": 1,
   "metadata": {},
   "outputs": [
    {
     "name": "stdout",
     "output_type": "stream",
     "text": [
      "[nltk_data] Downloading package cmudict to /home/rick/nltk_data...\n",
      "[nltk_data]   Package cmudict is already up-to-date!\n"
     ]
    },
    {
     "data": {
      "text/plain": [
       "True"
      ]
     },
     "execution_count": 1,
     "metadata": {},
     "output_type": "execute_result"
    }
   ],
   "source": [
    "import pandas as pd\n",
    "import numpy as np\n",
    "import string\n",
    "import nltk \n",
    "import os\n",
    "import sys\n",
    "\n",
    "\n",
    "\n",
    "from random import randint\n",
    "\n",
    "\n",
    "nltk.download('cmudict')"
   ]
  },
  {
   "cell_type": "code",
   "execution_count": 2,
   "metadata": {},
   "outputs": [],
   "source": [
    "# Getting data\n",
    "tweetsdf = pd.read_csv(\"../data/processedTweetsSegmented.csv\")\n",
    "tweets = np.array(tweetsdf['0'], dtype=str)"
   ]
  },
  {
   "cell_type": "code",
   "execution_count": 24,
   "metadata": {},
   "outputs": [],
   "source": [
    "def get_last_word(tweets):\n",
    "    lastWords = []\n",
    "    goodTweets = []\n",
    "    for tweet in tweets:\n",
    "        finalWord = tweet.translate(str.maketrans('', '', string.punctuation))\n",
    "        finalWord = finalWord.strip()\n",
    "        if len(finalWord) > 1:\n",
    "            lastWords.append(finalWord.split(' ')[-1])\n",
    "            goodTweets.append(tweet)\n",
    "    return lastWords, goodTweets\n",
    "\n",
    "def rhyme(inp, level):\n",
    "    entries = nltk.corpus.cmudict.entries()\n",
    "    syllables = [(word, syl) for word, syl in entries if word == inp]\n",
    "    rhymes = []\n",
    "    goodRhymes = []\n",
    "    for (word, syllable) in syllables:\n",
    "        rhymes += [word for word, pron in entries if pron[-level:] == syllable[-level:]]\n",
    "        \n",
    "    return set(rhymes)\n",
    "\n",
    "\n",
    "def doTheyRhyme(word1, word2):\n",
    "    if word1.find(word2) == len(word1) - len(word2):\n",
    "        return False\n",
    "    if word2.find(word1) == len(word2) - len(word1): \n",
    "        return False\n",
    "\n",
    "    return True\n",
    "\n",
    "def get_filtered_rhymes(rhymes, target):\n",
    "    goodRhymes = []\n",
    "    for word in rhymes:\n",
    "        if doTheyRhyme(target, word):\n",
    "            goodRhymes += [word]\n",
    "            \n",
    "    return set(goodRhymes)\n",
    "\n",
    "def get_line(N = 3 , VERBOSE = False):  \n",
    "    randix = randint(0, len(lastwords)-1)\n",
    "    target = lastwords[randix]\n",
    "    triplet = []\n",
    "    strictness = 3\n",
    "\n",
    "\n",
    "    if len(target) < 4:\n",
    "        noise = 0 \n",
    "        if len(target) == 3:\n",
    "            noise = randint(0,1)\n",
    "        strictness = len(target) - noise\n",
    "        \n",
    "    if len(target) > 8:\n",
    "        strictness = 4\n",
    "\n",
    "\n",
    "    rhymes = rhyme(target, strictness)\n",
    "    #print(\"target = \" + target + \" rhymes length \" + str(len(rhymes)))\n",
    "    \n",
    "    if len(rhymes) > 6 and len(target) > 2 and len(rhymes) < 200:\n",
    "        rhymes = get_filtered_rhymes(rhymes, target)\n",
    "\n",
    "    if len(rhymes) < 2:\n",
    "        return get_line(N=N)\n",
    "\n",
    "    matches = []\n",
    "    matchedwords = []\n",
    "    ix = 0\n",
    "    for word in lastwords:\n",
    "        if word in rhymes and word != target:\n",
    "            matches.append(ix)\n",
    "            matchedwords.append(word)\n",
    "        ix += 1\n",
    "\n",
    "    \n",
    "    if len(matchedwords) == 0:\n",
    "        return get_line(N=N)\n",
    "    \n",
    "    if VERBOSE:\n",
    "        print(\"target = \" + target)        \n",
    "        print(\"How many rhymes : \" + str(len(rhymes))) \n",
    "        print(\"\")\n",
    "    \n",
    "    triplet.append(goodTweets[randix] + \"\\n\")\n",
    "    \n",
    "    used_tweets_id = []\n",
    "    used_tweets_id.append(randix)\n",
    "    \n",
    "    for i in range(0,N-1):\n",
    "        index = randint(0, len(matches)-1)\n",
    "        \n",
    "        brekker = 0\n",
    "        while index in used_tweets_id:\n",
    "            index = randint(0, len(matches)-1)\n",
    "            brekker += 1\n",
    "            if brekker > 50:\n",
    "                break\n",
    "        \n",
    "        used_tweets_id.append(index)\n",
    "        triplet.append(goodTweets[matches[index]] + \"\\n\")\n",
    "\n",
    "\n",
    "    #print(triplet)\n",
    "    #print(\"\")\n",
    "    return triplet\n",
    "\n",
    "def make_sonnet():\n",
    "    A = get_line(N=4)\n",
    "    B = get_line(N=4)\n",
    "    C = get_line(N=3)\n",
    "    D = get_line(N=3)\n",
    "    E = get_line(N=3)\n",
    "\n",
    "    poem = []\n",
    "\n",
    "    poem.append(A[0])\n",
    "    poem.append(B[0])\n",
    "    poem.append(B[1])\n",
    "    poem.append(A[1])\n",
    "\n",
    "\n",
    "    poem.append(A[2])\n",
    "    poem.append(B[2])\n",
    "    poem.append(B[3])\n",
    "    poem.append(A[3])\n",
    "\n",
    "    poem.append(C[0])\n",
    "    poem.append(D[0])\n",
    "    poem.append(E[0])\n",
    "\n",
    "    poem.append(C[1])\n",
    "    poem.append(D[1])\n",
    "    poem.append(E[1])\n",
    "    \n",
    "    return poem"
   ]
  },
  {
   "cell_type": "code",
   "execution_count": 9,
   "metadata": {},
   "outputs": [],
   "source": [
    "lastwords, goodTweets = get_last_word(tweets)"
   ]
  },
  {
   "cell_type": "code",
   "execution_count": 20,
   "metadata": {
    "scrolled": true
   },
   "outputs": [
    {
     "name": "stdout",
     "output_type": "stream",
     "text": [
      " purple drink?\n",
      "\n",
      "me know wot ya think ..\n",
      "\n",
      "what do u think?\n",
      "\n",
      "sorry  my friend just bought tickets i think\n",
      "\n",
      "just a couple months away i think\n",
      "\n",
      "pete still has dignity (i think)  \n",
      "\n",
      "\n",
      "needs more friends\n",
      "\n",
      "sounds\n",
      "\n",
      "you're not coming to lowlands\n",
      "\n",
      "you obviously don't hang with fellow fbr bands.  \n",
      "\n",
      "Is it both hands?\n",
      "\n",
      "I just got three of the fuckers within five seconds.\n",
      "\n"
     ]
    }
   ],
   "source": [
    "t1 = get_line(N=6) \n",
    "t2 = get_line(N=6)\n",
    "\n",
    "t1.append(\"\")\n",
    "for line in t2:\n",
    "    t1.append(line)\n",
    "\n",
    "for line in t1:\n",
    "    print(line)"
   ]
  },
  {
   "cell_type": "code",
   "execution_count": 16,
   "metadata": {
    "scrolled": true
   },
   "outputs": [
    {
     "name": "stdout",
     "output_type": "stream",
     "text": [
      "and I hope to have a great day myself!\n",
      "\n",
      "Its not magical by any means\n",
      "\n",
      "like when we get back home I wanna buy jeans\n",
      "\n",
      "The SC feed broke and never fixed itself\n",
      "\n",
      "Show yourself\n",
      "\n",
      "She is making me wear jeans.\n",
      "\n",
      "It's not even 8 and i'm super hot in my jeans.\n",
      "\n",
      "You should come over and see for yourself\n",
      "\n",
      "imagen me at the movies crying \n",
      "\n",
      "Its frustrating for you guys and its just stupid on their part.\n",
      "\n",
      " Thanks  Just a little bit of cardio and ab exercises ...\n",
      "\n",
      "Whats the point in trying?\n",
      "\n",
      "The house smells like a giant fart.\n",
      "\n",
      "*sympathizes\n",
      "\n",
      "\n",
      "-----------------\n",
      "\n"
     ]
    }
   ],
   "source": [
    "for i in range(0,1):      \n",
    "    sonnet = make_sonnet()\n",
    "\n",
    "    for line in sonnet:\n",
    "        print(line)\n",
    "    \n",
    "    print(\"\")\n",
    "    print(\"-----------------\")\n",
    "    print(\"\")"
   ]
  },
  {
   "cell_type": "code",
   "execution_count": 26,
   "metadata": {
    "scrolled": true
   },
   "outputs": [
    {
     "name": "stdout",
     "output_type": "stream",
     "text": [
      "no of generated poems: 1\n",
      "no of generated poems: 2\n",
      "no of generated poems: 3\n",
      "no of generated poems: 4\n",
      "no of generated poems: 5\n",
      "no of generated poems: 6\n",
      "no of generated poems: 7\n",
      "no of generated poems: 8\n",
      "no of generated poems: 9\n",
      "no of generated poems: 10\n",
      "no of generated poems: 11\n",
      "no of generated poems: 12\n",
      "no of generated poems: 13\n",
      "no of generated poems: 14\n",
      "no of generated poems: 15\n",
      "no of generated poems: 16\n",
      "no of generated poems: 17\n",
      "no of generated poems: 18\n",
      "no of generated poems: 19\n",
      "no of generated poems: 20\n"
     ]
    }
   ],
   "source": [
    "for i in range(0,20):\n",
    "    sonnet = make_sonnet()\n",
    "    with open(\"../poems/generated_poems_improved_tweets2\", \"a\") as text_file:\n",
    "        text_file.writelines(sonnet)\n",
    "        text_file.write(\"\" + \"\\n\")\n",
    "        text_file.write(\"---------------------------------------------------------\" + \"\\n\")\n",
    "        text_file.write(\"\" + \"\\n\")\n",
    "        \n",
    "    print(\"no of generated poems: \" + str(i+1))"
   ]
  },
  {
   "cell_type": "code",
   "execution_count": null,
   "metadata": {},
   "outputs": [],
   "source": []
  }
 ],
 "metadata": {
  "kernelspec": {
   "display_name": "Python 3",
   "language": "python",
   "name": "python3"
  },
  "language_info": {
   "codemirror_mode": {
    "name": "ipython",
    "version": 3
   },
   "file_extension": ".py",
   "mimetype": "text/x-python",
   "name": "python",
   "nbconvert_exporter": "python",
   "pygments_lexer": "ipython3",
   "version": "3.6.8"
  }
 },
 "nbformat": 4,
 "nbformat_minor": 2
}
