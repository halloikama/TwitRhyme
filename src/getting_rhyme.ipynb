{
 "cells": [
  {
   "cell_type": "code",
   "execution_count": null,
   "metadata": {},
   "outputs": [],
   "source": []
  },
  {
   "cell_type": "code",
   "execution_count": null,
   "metadata": {},
   "outputs": [],
   "source": []
  },
  {
   "cell_type": "code",
   "execution_count": 23,
   "metadata": {},
   "outputs": [
    {
     "name": "stdout",
     "output_type": "stream",
     "text": [
      "[nltk_data] Downloading package cmudict to /home/rick/nltk_data...\n",
      "[nltk_data]   Package cmudict is already up-to-date!\n"
     ]
    },
    {
     "data": {
      "text/plain": [
       "True"
      ]
     },
     "execution_count": 23,
     "metadata": {},
     "output_type": "execute_result"
    }
   ],
   "source": [
    "import pandas as pd\n",
    "import numpy as np\n",
    "import string\n",
    "import nltk \n",
    "\n",
    "\n",
    "from random import randint\n",
    "\n",
    "\n",
    "nltk.download('cmudict')"
   ]
  },
  {
   "cell_type": "code",
   "execution_count": 24,
   "metadata": {},
   "outputs": [],
   "source": [
    "# Getting data\n",
    "tweetsdf = pd.read_csv(\"../data/processedTweets.csv\")\n",
    "tweets = np.array(tweetsdf['0'], dtype=str)"
   ]
  },
  {
   "cell_type": "code",
   "execution_count": 35,
   "metadata": {},
   "outputs": [],
   "source": [
    "def get_last_word(tweets):\n",
    "    lastWords = []\n",
    "    for tweet in tweets:\n",
    "        finalWord = tweet.translate(str.maketrans('', '', string.punctuation))\n",
    "        finalWord = finalWord.strip()\n",
    "        lastWords.append(finalWord.split(' ')[-1])\n",
    "    return lastWords\n",
    "\n",
    "def rhyme(inp, level):\n",
    "    entries = nltk.corpus.cmudict.entries()\n",
    "    syllables = [(word, syl) for word, syl in entries if word == inp]\n",
    "    rhymes = []\n",
    "    for (word, syllable) in syllables:\n",
    "        rhymes += [word for word, pron in entries if pron[-level:] == syllable[-level:]]\n",
    "    return set(rhymes)\n",
    "\n",
    "\n",
    "def get_line(N = 3 , VERBOSE = False):\n",
    "    randix = randint(0, len(lastwords)-1)\n",
    "    target = lastwords[randix]\n",
    "    triplet = []\n",
    "    strictness = 3\n",
    "\n",
    "    if len(target) < 4:\n",
    "        noice = 0 \n",
    "        if len(target) == 3:\n",
    "            noice = randint(0,1)\n",
    "        strictness = len(target) - noice\n",
    "\n",
    "\n",
    "    rhymes = rhyme(target, strictness)\n",
    "\n",
    "    if len(rhymes) < 2:\n",
    "        return get_line(N=N)\n",
    "\n",
    "    matches = []\n",
    "    matchedwords = []\n",
    "    ix = 0\n",
    "    for word in lastwords:\n",
    "        if word in rhymes and word != target:\n",
    "            matches.append(ix)\n",
    "            matchedwords.append(word)\n",
    "\n",
    "        ix += 1\n",
    "\n",
    "    \n",
    "    if len(matchedwords) == 0:\n",
    "        return get_line(N=N)\n",
    "    \n",
    "    if VERBOSE:\n",
    "        print(\"target = \" + target)        \n",
    "        print(\"How many rhymes : \" + str(len(rhymes))) \n",
    "        print(\"\")\n",
    "    \n",
    "    triplet.append(tweets[randix])\n",
    "    for i in range(0,N-1):\n",
    "        triplet.append(tweets[matches[randint(0, len(matches)-1)]])\n",
    "    \n",
    "    #print(triplet)\n",
    "    return triplet\n",
    "\n",
    "def make_sonnet():\n",
    "    A = get_line(N=4)\n",
    "    B = get_line(N=4)\n",
    "    C = get_line(N=3)\n",
    "    D = get_line(N=3)\n",
    "    E = get_line(N=3)\n",
    "\n",
    "    poem = []\n",
    "\n",
    "    poem.append(A[0])\n",
    "    poem.append(B[0])\n",
    "    poem.append(B[1])\n",
    "    poem.append(A[1])\n",
    "\n",
    "\n",
    "    poem.append(A[2])\n",
    "    poem.append(B[2])\n",
    "    poem.append(B[3])\n",
    "    poem.append(A[3])\n",
    "\n",
    "    poem.append(C[0])\n",
    "    poem.append(D[0])\n",
    "    poem.append(E[0])\n",
    "\n",
    "    poem.append(C[1])\n",
    "    poem.append(D[1])\n",
    "    poem.append(E[1])\n",
    "    \n",
    "    return poem"
   ]
  },
  {
   "cell_type": "code",
   "execution_count": null,
   "metadata": {},
   "outputs": [],
   "source": [
    "lastwords = get_last_word(tweets)"
   ]
  },
  {
   "cell_type": "code",
   "execution_count": 37,
   "metadata": {},
   "outputs": [
    {
     "name": "stdout",
     "output_type": "stream",
     "text": [
      "I'll make a veggie alternative to accompany the meal tonight\n",
      "We're chilling in Iowa City for the night\n",
      "and who gave it to me?!     good night\n",
      "\n",
      "Right now my fav song is Paranoid!!! But im sure i'll love every\n",
      "Sesame chicken goes good with recovery\n",
      "Just ordered lunch for delivery\n",
      "Thanks for all of the tweets on hard drive recovery!\n"
     ]
    }
   ],
   "source": [
    "t1 = get_line(N=3) \n",
    "t2 = get_line(N=4)\n",
    "\n",
    "t1.append(\"\")\n",
    "for line in t2:\n",
    "    t1.append(line)\n",
    "\n",
    "for line in t1:\n",
    "    print(line)"
   ]
  },
  {
   "cell_type": "code",
   "execution_count": 38,
   "metadata": {
    "scrolled": true
   },
   "outputs": [
    {
     "name": "stdout",
     "output_type": "stream",
     "text": [
      "whatever, the main point is that, it is\n",
      "They dont like google maybe\n",
      "'Cause i don't hate miley  Simple baby\n",
      "when can I sing again?best wishes\n",
      "ms ms\n",
      "how was your day baby\n",
      "24 points x triple word score = undeniable defeat, baby!\n",
      "I'm glad I have unlimited text messages\n",
      "i'm home away from home! exhausted, and almost sick.\n",
      "Hoping the young Scott, Andy Murray wins the grass!!\n",
      "- UHH: represent\n",
      "Never letting D drink out of my slushie ever again I woke up sic\n",
      "Later bros and bras\n",
      "headache still present\n",
      "\n",
      "-----------------\n",
      "\n",
      "Rest a little\n",
      "Whats up  my twiggaz!!! man 2day iz annoying so far because my a\n",
      "I really hated my cat today  poptwiz: do I keep a potentially da\n",
      "Discouraging: attended a school picnic; 400 plastic water bottle\n",
      "Open Platforms and Innovation good title\n",
      "ok no luck with untouched  but i can play beautiful - christina \n",
      "wishes I felt better today\n",
      "My Morpheus is more of the &quot;sleeping partner&quot; varietal\n",
      "We will want it more than them\n",
      "Listening to The Honorary Title and cleaning my room\n",
      "Still at work  poppin annoymous my shit behind the mic hehe it s\n",
      "maybe weather change interrupts your sleep rhythm\n",
      "big wedding today, not mine, but sucks for the bride and groom  \n",
      "iPhone upgrade complete!  Restoring from backup now, this ..\n",
      "\n",
      "-----------------\n",
      "\n",
      "morning everyone! such a lovely day out\n",
      "i said i love you to the jonas brothers and they never responded\n",
      "ok it has just up loaded\n",
      "Hehe! Yeah, still watching GG but Im getting less excited about \n",
      "Wish i was one of ones marilyn manson sings about..\n",
      "Louis did!\n",
      "Whooo Hoooo!! Yard sale is done, truck is loaded\n",
      "I'm fine, bit scary for a while though, a few touched down about\n",
      "So junk\n",
      "short stack tv it is!\n",
      "but i enjoy the drama  your harsh\n",
      "Zenon finished! Oh and the wine walk got me pretty drunk\n",
      "and it itches\n",
      "i have a fever except im still coming 2moz and ill come to marsh\n",
      "\n",
      "-----------------\n",
      "\n"
     ]
    }
   ],
   "source": [
    "for i in range(0,3):      \n",
    "    sonnet = make_sonnet()\n",
    "\n",
    "    for line in sonnet:\n",
    "        print(line)\n",
    "    \n",
    "    print(\"\")\n",
    "    print(\"-----------------\")\n",
    "    print(\"\")"
   ]
  },
  {
   "cell_type": "code",
   "execution_count": 33,
   "metadata": {},
   "outputs": [
    {
     "data": {
      "text/plain": [
       "{'badeau',\n",
       " 'badeaux',\n",
       " 'bordeau',\n",
       " 'bordeaux',\n",
       " 'bourdeau',\n",
       " 'brideau',\n",
       " 'dau',\n",
       " 'dedeaux',\n",
       " 'doe',\n",
       " 'doh',\n",
       " 'dough',\n",
       " 'godot',\n",
       " 'goudeau',\n",
       " 'nadeau',\n",
       " 'nedeau',\n",
       " 'rideau',\n",
       " 'rideaux',\n",
       " 'riendeau',\n",
       " 'rondeau',\n",
       " 'taekwondo',\n",
       " 'trudeau'}"
      ]
     },
     "execution_count": 33,
     "metadata": {},
     "output_type": "execute_result"
    }
   ],
   "source": [
    "rhyme('dough', 2)"
   ]
  },
  {
   "cell_type": "code",
   "execution_count": null,
   "metadata": {},
   "outputs": [],
   "source": []
  }
 ],
 "metadata": {
  "kernelspec": {
   "display_name": "Python 3",
   "language": "python",
   "name": "python3"
  },
  "language_info": {
   "codemirror_mode": {
    "name": "ipython",
    "version": 3
   },
   "file_extension": ".py",
   "mimetype": "text/x-python",
   "name": "python",
   "nbconvert_exporter": "python",
   "pygments_lexer": "ipython3",
   "version": "3.6.8"
  }
 },
 "nbformat": 4,
 "nbformat_minor": 2
}
