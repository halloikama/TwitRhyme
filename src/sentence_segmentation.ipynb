{
 "cells": [
  {
   "cell_type": "code",
   "execution_count": 3,
   "metadata": {},
   "outputs": [],
   "source": [
    "import pandas as pd\n",
    "import numpy as np\n",
    "import spacy\n",
    "import time\n",
    "import progressbar\n",
    "import datetime\n",
    "import string\n",
    "import nltk \n",
    "import os\n",
    "import sys\n",
    "import csv\n",
    "\n",
    "nlp = spacy.load('en')"
   ]
  },
  {
   "cell_type": "code",
   "execution_count": 2,
   "metadata": {},
   "outputs": [],
   "source": [
    "SAVING = True\n",
    "tweets = pd.read_csv('../data/newdata.csv', header= None)"
   ]
  },
  {
   "cell_type": "code",
   "execution_count": 3,
   "metadata": {},
   "outputs": [],
   "source": [
    "tweetlist = np.array(tweets[5])\n",
    "tweet2 = []\n",
    "for tweet in tweetlist:\n",
    "    tut = ' '.join(word for word in tweet.split(' ') if not word.startswith('@'))\n",
    "    tut2 = ' '.join(word for word in tut.split(' ') if not word.startswith('http'))\n",
    "    tweet2.append(tut2)"
   ]
  },
  {
   "cell_type": "code",
   "execution_count": 32,
   "metadata": {},
   "outputs": [
    {
     "name": "stdout",
     "output_type": "stream",
     "text": [
      "Time taken:  4:19:53.353213\n"
     ]
    }
   ],
   "source": [
    "SAVING = False\n",
    "no_tweets = 1\n",
    "i = 0\n",
    "starttime = datetime.datetime.now()\n",
    "\n",
    "with open(\"../data/sent.txt\", \"a\") as text_file:\n",
    "    for tweet in tweet2:\n",
    "            doc = nlp(tweet)\n",
    "            for s in doc.sents:\n",
    "                text_file.write(s.text +\"\\n\")\n",
    "\n",
    "endtime = datetime.datetime.now()\n",
    "timetaken = endtime-starttime\n",
    "print('Time taken: ', timetaken)"
   ]
  },
  {
   "cell_type": "code",
   "execution_count": 18,
   "metadata": {},
   "outputs": [],
   "source": [
    "sentences = []\n",
    "with open('../data/sent.txt', 'r', encoding='utf8', errors='ignore') as sentencefile:\n",
    "    reader = csv.reader(sentencefile)\n",
    "    for row in reader:\n",
    "        sentences.append(row[0])"
   ]
  },
  {
   "cell_type": "code",
   "execution_count": 22,
   "metadata": {},
   "outputs": [],
   "source": [
    "if SAVING:\n",
    "    processedTweets = pd.DataFrame(sentences)\n",
    "    processedTweets.to_csv('../data/processedTweetsSegmented.csv')"
   ]
  },
  {
   "cell_type": "code",
   "execution_count": null,
   "metadata": {},
   "outputs": [],
   "source": []
  },
  {
   "cell_type": "code",
   "execution_count": null,
   "metadata": {},
   "outputs": [],
   "source": []
  }
 ],
 "metadata": {
  "kernelspec": {
   "display_name": "Python 3",
   "language": "python",
   "name": "python3"
  },
  "language_info": {
   "codemirror_mode": {
    "name": "ipython",
    "version": 3
   },
   "file_extension": ".py",
   "mimetype": "text/x-python",
   "name": "python",
   "nbconvert_exporter": "python",
   "pygments_lexer": "ipython3",
   "version": "3.6.8"
  }
 },
 "nbformat": 4,
 "nbformat_minor": 2
}
